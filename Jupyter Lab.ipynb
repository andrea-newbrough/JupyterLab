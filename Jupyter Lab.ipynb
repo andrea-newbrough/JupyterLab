{
 "cells": [
  {
   "cell_type": "code",
   "execution_count": 6,
   "id": "77ca3935",
   "metadata": {},
   "outputs": [
    {
     "name": "stdout",
     "output_type": "stream",
     "text": [
      "0.5\n"
     ]
    }
   ],
   "source": [
    "import numpy as np\n",
    "\n",
    "def rule1(c,da):\n",
    "    dQ = (c*da)\n",
    "    return dQ\n",
    "\n",
    "c = 1\n",
    "da = 0.5\n",
    "prod = rule1(c, da)\n",
    "print(prod)"
   ]
  },
  {
   "cell_type": "code",
   "execution_count": 12,
   "id": "d44d4ab5",
   "metadata": {},
   "outputs": [
    {
     "name": "stdout",
     "output_type": "stream",
     "text": [
      "2\n"
     ]
    }
   ],
   "source": [
    "import numpy as np\n",
    "\n",
    "def rule2(c,m,a,da):\n",
    "    dQ = np.abs(c*m*a**(m-1))*da\n",
    "    return dQ\n",
    "\n",
    "c = 1\n",
    "m = 2\n",
    "a = 1\n",
    "da = 1\n",
    "prod = rule2(c,m,a,da)\n",
    "print(prod)"
   ]
  },
  {
   "cell_type": "code",
   "execution_count": 13,
   "id": "fa987a5b",
   "metadata": {
    "scrolled": true
   },
   "outputs": [
    {
     "name": "stdout",
     "output_type": "stream",
     "text": [
      "0.01414213562373095\n"
     ]
    }
   ],
   "source": [
    "import numpy as np\n",
    "\n",
    "def rule3(da, db):\n",
    "    dQ = np.sqrt(da**2+db**2)\n",
    "    return dQ\n",
    "\n",
    "d1 = 1.2\n",
    "d2 = 1.3\n",
    "errd1 = 0.01\n",
    "errd2 = 0.01\n",
    "errdtotal = rule3(errd1, errd2)\n",
    "print (errdtotal)"
   ]
  },
  {
   "cell_type": "code",
   "execution_count": null,
   "id": "80864f10",
   "metadata": {},
   "outputs": [],
   "source": [
    "import numpy as np\n",
    "\n",
    "def rule4(m,da,a,db,b,q,n):\n",
    "    dQ = np.abs(q)*(np.sqrt((m*da/a)**2+(n*db/b)**2))\n",
    "    return dQ"
   ]
  },
  {
   "cell_type": "code",
   "execution_count": 18,
   "id": "b0572449",
   "metadata": {},
   "outputs": [
    {
     "name": "stdout",
     "output_type": "stream",
     "text": [
      "0.04785842014112915\n"
     ]
    }
   ],
   "source": [
    "import numpy as np\n",
    "\n",
    "def rule4(m,da,a,db,b,q,n):\n",
    "    dQ = np.abs(q)*(np.sqrt((m*da/a)**2+(n*db/b)**2))\n",
    "    return dQ\n",
    "\n",
    "q = 2.05\n",
    "m = -0.5\n",
    "da = 0.0005\n",
    "a = 0.985\n",
    "n = 1\n",
    "db = 0.0215\n",
    "b = 0.921\n",
    "errdtotal = rule4(m,da,a,db,b,q,n)\n",
    "print (errdtotal)\n"
   ]
  },
  {
   "cell_type": "code",
   "execution_count": null,
   "id": "557323b0",
   "metadata": {},
   "outputs": [],
   "source": [
    "The value calculated in the python 3 notebook matched the value calculated in the lab from last week. With rounding to one significant figure, both equal ±0.05\n"
   ]
  },
  {
   "cell_type": "code",
   "execution_count": 24,
   "id": "0c4f97cf",
   "metadata": {},
   "outputs": [
    {
     "name": "stdout",
     "output_type": "stream",
     "text": [
      "The average is:  1.1166666666666667 . The standard deviation is:  0.17950549357115014 .\n"
     ]
    }
   ],
   "source": [
    "import numpy as np\n",
    "\n",
    "x = np.array ([1.1,1.3,1.4,0.9,0.95,1.05])\n",
    "avg = np.average(x)\n",
    "stndv = np.std(x)\n",
    "print (\"The average is: \", avg, \". The standard deviation is: \", stndv,\".\")\n"
   ]
  },
  {
   "cell_type": "markdown",
   "id": "a0362f93",
   "metadata": {},
   "source": [
    "$\\delta Q = \\sqrt{(\\delta A)^2+(\\delta B)^2)}$"
   ]
  },
  {
   "cell_type": "markdown",
   "id": "ade3716e",
   "metadata": {},
   "source": [
    "$\\delta Q = Q\\sqrt{(\\frac{m\\delta A}{A})^2+(\\frac{n\\delta B}{B})^2}$"
   ]
  }
 ],
 "metadata": {
  "kernelspec": {
   "display_name": "Python 3",
   "language": "python",
   "name": "python3"
  },
  "language_info": {
   "codemirror_mode": {
    "name": "ipython",
    "version": 3
   },
   "file_extension": ".py",
   "mimetype": "text/x-python",
   "name": "python",
   "nbconvert_exporter": "python",
   "pygments_lexer": "ipython3",
   "version": "3.8.8"
  }
 },
 "nbformat": 4,
 "nbformat_minor": 5
}
